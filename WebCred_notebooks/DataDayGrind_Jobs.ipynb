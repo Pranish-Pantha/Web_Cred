{
  "nbformat": 4,
  "nbformat_minor": 0,
  "metadata": {
    "colab": {
      "name": "DataDayGrind_Jobs.ipynb",
      "provenance": [],
      "collapsed_sections": [],
      "toc_visible": true
    },
    "kernelspec": {
      "name": "python3",
      "display_name": "Python 3"
    },
    "accelerator": "GPU"
  },
  "cells": [
    {
      "cell_type": "code",
      "metadata": {
        "id": "ZRVfWjqJ65U5",
        "colab_type": "code",
        "colab": {}
      },
      "source": [
        "# Designed for MLH Data Day Grind Hackathon\n",
        "# Webcred.tech\n",
        "# Use NLP to detect fake job listings\n",
        "\n",
        "import tensorflow as tf\n",
        "import numpy as np\n",
        "import matplotlib.pyplot as plt\n",
        "\n"
      ],
      "execution_count": 3,
      "outputs": []
    },
    {
      "cell_type": "code",
      "metadata": {
        "id": "YZRkOL9uBdBd",
        "colab_type": "code",
        "colab": {}
      },
      "source": [
        "import csv\n",
        "import os\n",
        "\n",
        "labels = []\n",
        "textFeatures = []\n",
        "\n",
        "with open('/content/fake_job_postings.csv') as csvfile:\n",
        "  reader = csv.reader(csvfile, delimiter=',')\n",
        "  next(reader)\n",
        "  for row in reader:\n",
        "    feature = []\n",
        "    # job title, department name, company name, description, requirements\n",
        "    textFeatures.append(str(row[1]) + \" \" + str(row[3]) + \" \" + str(row[5]) + \" \" + str(row[6]) + \" \" + str(row[7]))\n",
        "\n",
        "    # define for categorical crossentropy\n",
        "    itemLabel = [0,0]\n",
        "    itemLabel[int(row[-1])] = 1\n",
        "    labels.append(itemLabel)\n",
        "\n",
        "\n"
      ],
      "execution_count": 4,
      "outputs": []
    },
    {
      "cell_type": "code",
      "metadata": {
        "id": "eAxXPZwHPiwE",
        "colab_type": "code",
        "colab": {}
      },
      "source": [
        "# split data into training and validation sets\n",
        "splitProp = .7\n",
        "splitIndex = round(len(textFeatures) * splitProp)\n",
        "\n",
        "allText = textFeatures\n",
        "allLabels = labels\n",
        "\n",
        "trainingText = allText[:splitIndex]\n",
        "validationText = allText[splitIndex:]\n",
        "trainingLabels = allLabels[:splitIndex]\n",
        "validationLabels = allLabels[splitIndex:]"
      ],
      "execution_count": 5,
      "outputs": []
    },
    {
      "cell_type": "code",
      "metadata": {
        "id": "0_M4TS-cOukq",
        "colab_type": "code",
        "colab": {}
      },
      "source": [
        "vocab_size = 1000\n",
        "embedding_dim = 24\n",
        "max_length = 100\n",
        "trunc_type='post'\n",
        "oov_tok='<OOV>'\n",
        "\n",
        "from tensorflow.keras.preprocessing.text import Tokenizer\n",
        "from tensorflow.keras.preprocessing.sequence import pad_sequences\n",
        "\n",
        "#tokenize and pad data\n",
        "tokenizer = Tokenizer(num_words = vocab_size, oov_token = oov_tok)\n",
        "tokenizer.fit_on_texts(trainingText)\n",
        "word_index = tokenizer.word_index\n",
        "sequences = tokenizer.texts_to_sequences(trainingText)\n",
        "padded = pad_sequences(sequences, maxlen=max_length, truncating=trunc_type)\n",
        "\n",
        "testing_sequences = tokenizer.texts_to_sequences(validationText)\n",
        "testing_padded = pad_sequences(testing_sequences, maxlen=max_length, truncating=trunc_type)"
      ],
      "execution_count": 6,
      "outputs": []
    },
    {
      "cell_type": "code",
      "metadata": {
        "id": "j1rlQKr2P2F9",
        "colab_type": "code",
        "colab": {
          "base_uri": "https://localhost:8080/",
          "height": 157
        },
        "outputId": "dcc2c5df-2452-4394-c2ee-1c89a232d8ba"
      },
      "source": [
        "#padded token matrix\n",
        "print(testing_padded[20])\n",
        "\n",
        "#original text\n",
        "print(validationText[20])"
      ],
      "execution_count": 7,
      "outputs": [
        {
          "output_type": "stream",
          "text": [
            "[  1   1   1   1   1 314 439 355 395 314 440  54   3  71  13   1   4   1\n",
            " 685   3 535   4 947 145   9  29  72  12  75  71 225  29 314   1   2   1\n",
            "  29 588 100  26   1   1   7   1   1   1  11  51   9   6 321   2 376   1\n",
            "   1  37 285  87  17 112   3   1   1   2   1 378   1 148 103  87  17 683\n",
            "   3 583   1   7   1   1   2   1  12 300 147   1   1   2 312  11 697  26\n",
            "  87  17 112   3   1   1  42   1   1 378]\n",
            "TV Satellite Dish Installer  Hawkeye Recruitment provides cost effective recruitment advertising solutions to help you cast the widest net to find the perfect candidate for your job. We can help improve your recruitment efforts, and streamline your hiring process.  Holaday Satellite in Mount Pleasant Iowa is looking for a motivated and experienced Satellite Installer. This individual must be able to install Dish and Directv without supervision. They also must be willing to become certified in installing DishNet and Exede. We offer excellent wages. Van and equipment is provided.  Must be able to install Dish &amp; DirecTV dishes without supervisionWilling to become a certified DishNet and Exede installer\n"
          ],
          "name": "stdout"
        }
      ]
    },
    {
      "cell_type": "code",
      "metadata": {
        "id": "Hb78ZL7xXMJC",
        "colab_type": "code",
        "colab": {
          "base_uri": "https://localhost:8080/",
          "height": 361
        },
        "outputId": "5b5901ab-dedc-4bf5-f2ad-64613a147bc5"
      },
      "source": [
        "# Network Structure\n",
        "# Embedding Layer maps tokenized words to nth dimensional vector (allows words to be respresented as a position in space)\n",
        "# 2 Bidirectional LSTM layers (allows words to be a factor using cell states)\n",
        "# 3 Dense Layers Simple DNN and Output\n",
        "\n",
        "\n",
        "#create model structure\n",
        "layers = [tf.keras.layers.Embedding(vocab_size, embedding_dim, input_length=max_length),\n",
        "          tf.keras.layers.Bidirectional(tf.keras.layers.LSTM(32, return_sequences=True)),\n",
        "          tf.keras.layers.Bidirectional(tf.keras.layers.LSTM(64)),\n",
        "          tf.keras.layers.Dense(512, activation='relu'),\n",
        "          tf.keras.layers.Dropout(.2),\n",
        "          tf.keras.layers.Dense(2, activation='softmax')]\n",
        "\n",
        "# create model and compile\n",
        "model = tf.keras.models.Sequential(layers)\n",
        "model.compile(optimizer=tf.keras.optimizers.Adam(lr=.0005), loss='categorical_crossentropy', metrics=['accuracy'])\n",
        "model.summary()"
      ],
      "execution_count": 8,
      "outputs": [
        {
          "output_type": "stream",
          "text": [
            "Model: \"sequential\"\n",
            "_________________________________________________________________\n",
            "Layer (type)                 Output Shape              Param #   \n",
            "=================================================================\n",
            "embedding (Embedding)        (None, 100, 24)           24000     \n",
            "_________________________________________________________________\n",
            "bidirectional (Bidirectional (None, 100, 64)           14592     \n",
            "_________________________________________________________________\n",
            "bidirectional_1 (Bidirection (None, 128)               66048     \n",
            "_________________________________________________________________\n",
            "dense (Dense)                (None, 512)               66048     \n",
            "_________________________________________________________________\n",
            "dropout (Dropout)            (None, 512)               0         \n",
            "_________________________________________________________________\n",
            "dense_1 (Dense)              (None, 2)                 1026      \n",
            "=================================================================\n",
            "Total params: 171,714\n",
            "Trainable params: 171,714\n",
            "Non-trainable params: 0\n",
            "_________________________________________________________________\n"
          ],
          "name": "stdout"
        }
      ]
    },
    {
      "cell_type": "code",
      "metadata": {
        "id": "qmMZkDkwXNpa",
        "colab_type": "code",
        "colab": {
          "base_uri": "https://localhost:8080/",
          "height": 361
        },
        "outputId": "dbaa9241-1470-4ada-dac8-8018ea3cd9ce"
      },
      "source": [
        "history = model.fit(padded, np.array(trainingLabels), epochs=10, validation_data=(testing_padded, np.array(validationLabels)))"
      ],
      "execution_count": 9,
      "outputs": [
        {
          "output_type": "stream",
          "text": [
            "Epoch 1/10\n",
            "392/392 [==============================] - 43s 109ms/step - loss: 0.1334 - accuracy: 0.9672 - val_loss: 0.1543 - val_accuracy: 0.9551\n",
            "Epoch 2/10\n",
            "392/392 [==============================] - 41s 105ms/step - loss: 0.0479 - accuracy: 0.9855 - val_loss: 0.1490 - val_accuracy: 0.9603\n",
            "Epoch 3/10\n",
            "392/392 [==============================] - 41s 104ms/step - loss: 0.0324 - accuracy: 0.9905 - val_loss: 0.1359 - val_accuracy: 0.9636\n",
            "Epoch 4/10\n",
            "392/392 [==============================] - 41s 104ms/step - loss: 0.0201 - accuracy: 0.9941 - val_loss: 0.1407 - val_accuracy: 0.9629\n",
            "Epoch 5/10\n",
            "392/392 [==============================] - 41s 104ms/step - loss: 0.0142 - accuracy: 0.9959 - val_loss: 0.2170 - val_accuracy: 0.9618\n",
            "Epoch 6/10\n",
            "392/392 [==============================] - 41s 104ms/step - loss: 0.0081 - accuracy: 0.9977 - val_loss: 0.2067 - val_accuracy: 0.9627\n",
            "Epoch 7/10\n",
            "392/392 [==============================] - 41s 104ms/step - loss: 0.0047 - accuracy: 0.9989 - val_loss: 0.2144 - val_accuracy: 0.9571\n",
            "Epoch 8/10\n",
            "392/392 [==============================] - 41s 104ms/step - loss: 0.0065 - accuracy: 0.9975 - val_loss: 0.3251 - val_accuracy: 0.9644\n",
            "Epoch 9/10\n",
            "392/392 [==============================] - 41s 104ms/step - loss: 0.0040 - accuracy: 0.9984 - val_loss: 0.2734 - val_accuracy: 0.9633\n",
            "Epoch 10/10\n",
            "392/392 [==============================] - 41s 104ms/step - loss: 0.0046 - accuracy: 0.9988 - val_loss: 0.2999 - val_accuracy: 0.9646\n"
          ],
          "name": "stdout"
        }
      ]
    },
    {
      "cell_type": "code",
      "metadata": {
        "id": "ePpU0b1aY4em",
        "colab_type": "code",
        "colab": {
          "base_uri": "https://localhost:8080/",
          "height": 513
        },
        "outputId": "74464e39-fd73-4a5e-b864-f3d3ea3334cd"
      },
      "source": [
        "loss = history.history['loss']\n",
        "val_loss = history.history['val_loss']\n",
        "acc = history.history['accuracy']\n",
        "val_acc = history.history['val_accuracy']\n",
        "\n",
        "epochs = list(range(len(loss)))\n",
        "\n",
        "plt.figure(1)\n",
        "plt.plot(epochs, loss, label='loss')\n",
        "plt.plot(epochs, val_loss, label='validation loss')\n",
        "plt.legend()\n",
        "plt.figure(2)\n",
        "plt.plot(epochs, acc, label='accuracy')\n",
        "plt.plot(epochs, val_acc, label='validation accuracy')\n",
        "plt.legend()\n",
        "plt.show()\n"
      ],
      "execution_count": 10,
      "outputs": [
        {
          "output_type": "display_data",
          "data": {
            "image/png": "[encoded data removed]",
            "text/plain": [
              "<Figure size 432x288 with 1 Axes>"
            ]
          },
          "metadata": {
            "tags": [],
            "needs_background": "light"
          }
        },
        {
          "output_type": "display_data",
          "data": {
            "image/png": "[encoded data removed]",
            "text/plain": [
              "<Figure size 432x288 with 1 Axes>"
            ]
          },
          "metadata": {
            "tags": [],
            "needs_background": "light"
          }
        }
      ]
    },
    {
      "cell_type": "code",
      "metadata": {
        "id": "L1GtgVgDcXi_",
        "colab_type": "code",
        "colab": {
          "base_uri": "https://localhost:8080/",
          "height": 51
        },
        "outputId": "2a2a3c60-5b3e-40ac-8ba7-af7c88bda8ee"
      },
      "source": [
        "sequence = tokenizer.texts_to_sequences([\"This job requires you to work for free.\"])\n",
        "paddedSeq = pad_sequences(sequence, maxlen=max_length, truncating=trunc_type)\n",
        "\n",
        "out = model.predict(paddedSeq)[0]\n",
        "prob = 0\n",
        "if out[0] >= .5:\n",
        "  print(\"Not a Scam\")\n",
        "  prob = out[0]\n",
        "else:\n",
        "  print(\"Scam\")\n",
        "  prob = out[1]\n",
        "\n",
        "print(\"with {prob}% confidence\".format(prob = prob*100))\n"
      ],
      "execution_count": 11,
      "outputs": [
        {
          "output_type": "stream",
          "text": [
            "Scam\n",
            "with 92.8543746471405% confidence\n"
          ],
          "name": "stdout"
        }
      ]
    },
    {
      "cell_type": "code",
      "metadata": {
        "id": "91K8NTn8DU9y",
        "colab_type": "code",
        "colab": {
          "base_uri": "https://localhost:8080/",
          "height": 51
        },
        "outputId": "f825fad5-59fb-4885-e280-bd4b22ee7345"
      },
      "source": [
        "#Pull weights from embedding layer\n",
        "e = model.layers[0]\n",
        "weights = e.get_weights()[0]\n",
        "print(weights.shape) # shape: (vocab_size, embedding_dim)\n",
        "\n",
        "def file_len(fname):\n",
        "    with open(fname) as f:\n",
        "        for i, l in enumerate(f):\n",
        "            pass\n",
        "    return i + 1\n",
        "\n",
        "import io\n",
        "\n",
        "inv_tokenizer = {v: k for k, v in word_index.items()}\n",
        "\n",
        "out_v = io.open('vecs.tsv', 'w', encoding='utf-8')\n",
        "out_m = io.open('meta.tsv', 'w', encoding='utf-8')\n",
        "for word_num in range(1, vocab_size):\n",
        "  word = inv_tokenizer.get(word_num)\n",
        "  embeddings = weights[word_num]\n",
        "  out_m.write(word + \"\\n\")\n",
        "  out_v.write('\\t'.join([str(x) for x in embeddings]) + \"\\n\")\n",
        "\n",
        "out_v.close()\n",
        "out_m.close()\n",
        "print(file_len('vecs.tsv'), file_len('meta.tsv'))\n",
        "\n",
        "try:\n",
        "  from google.colab import files\n",
        "except ImportError:\n",
        "  pass\n",
        "else:\n",
        "  files.download('vecs.tsv')\n",
        "  files.download('meta.tsv')"
      ],
      "execution_count": 12,
      "outputs": [
        {
          "output_type": "stream",
          "text": [
            "(1000, 24)\n",
            "999 999\n"
          ],
          "name": "stdout"
        },
        {
          "output_type": "display_data",
          "data": {
            "application/javascript": [
              "\n",
              "    async function download(id, filename, size) {\n",
              "      if (!google.colab.kernel.accessAllowed) {\n",
              "        return;\n",
              "      }\n",
              "      const div = document.createElement('div');\n",
              "      const label = document.createElement('label');\n",
              "      label.textContent = `Downloading \"${filename}\": `;\n",
              "      div.appendChild(label);\n",
              "      const progress = document.createElement('progress');\n",
              "      progress.max = size;\n",
              "      div.appendChild(progress);\n",
              "      document.body.appendChild(div);\n",
              "\n",
              "      const buffers = [];\n",
              "      let downloaded = 0;\n",
              "\n",
              "      const channel = await google.colab.kernel.comms.open(id);\n",
              "      // Send a message to notify the kernel that we're ready.\n",
              "      channel.send({})\n",
              "\n",
              "      for await (const message of channel.messages) {\n",
              "        // Send a message to notify the kernel that we're ready.\n",
              "        channel.send({})\n",
              "        if (message.buffers) {\n",
              "          for (const buffer of message.buffers) {\n",
              "            buffers.push(buffer);\n",
              "            downloaded += buffer.byteLength;\n",
              "            progress.value = downloaded;\n",
              "          }\n",
              "        }\n",
              "      }\n",
              "      const blob = new Blob(buffers, {type: 'application/binary'});\n",
              "      const a = document.createElement('a');\n",
              "      a.href = window.URL.createObjectURL(blob);\n",
              "      a.download = filename;\n",
              "      div.appendChild(a);\n",
              "      a.click();\n",
              "      div.remove();\n",
              "    }\n",
              "  "
            ],
            "text/plain": [
              "<IPython.core.display.Javascript object>"
            ]
          },
          "metadata": {
            "tags": []
          }
        },
        {
          "output_type": "display_data",
          "data": {
            "application/javascript": [
              "download(\"download_d355adc4-a1a6-4f98-b2be-74e4a3007027\", \"vecs.tsv\", 290862)"
            ],
            "text/plain": [
              "<IPython.core.display.Javascript object>"
            ]
          },
          "metadata": {
            "tags": []
          }
        },
        {
          "output_type": "display_data",
          "data": {
            "application/javascript": [
              "\n",
              "    async function download(id, filename, size) {\n",
              "      if (!google.colab.kernel.accessAllowed) {\n",
              "        return;\n",
              "      }\n",
              "      const div = document.createElement('div');\n",
              "      const label = document.createElement('label');\n",
              "      label.textContent = `Downloading \"${filename}\": `;\n",
              "      div.appendChild(label);\n",
              "      const progress = document.createElement('progress');\n",
              "      progress.max = size;\n",
              "      div.appendChild(progress);\n",
              "      document.body.appendChild(div);\n",
              "\n",
              "      const buffers = [];\n",
              "      let downloaded = 0;\n",
              "\n",
              "      const channel = await google.colab.kernel.comms.open(id);\n",
              "      // Send a message to notify the kernel that we're ready.\n",
              "      channel.send({})\n",
              "\n",
              "      for await (const message of channel.messages) {\n",
              "        // Send a message to notify the kernel that we're ready.\n",
              "        channel.send({})\n",
              "        if (message.buffers) {\n",
              "          for (const buffer of message.buffers) {\n",
              "            buffers.push(buffer);\n",
              "            downloaded += buffer.byteLength;\n",
              "            progress.value = downloaded;\n",
              "          }\n",
              "        }\n",
              "      }\n",
              "      const blob = new Blob(buffers, {type: 'application/binary'});\n",
              "      const a = document.createElement('a');\n",
              "      a.href = window.URL.createObjectURL(blob);\n",
              "      a.download = filename;\n",
              "      div.appendChild(a);\n",
              "      a.click();\n",
              "      div.remove();\n",
              "    }\n",
              "  "
            ],
            "text/plain": [
              "<IPython.core.display.Javascript object>"
            ]
          },
          "metadata": {
            "tags": []
          }
        },
        {
          "output_type": "display_data",
          "data": {
            "application/javascript": [
              "download(\"download_6f73bf49-ffcd-43ee-aab9-fb6c2b597c11\", \"meta.tsv\", 7571)"
            ],
            "text/plain": [
              "<IPython.core.display.Javascript object>"
            ]
          },
          "metadata": {
            "tags": []
          }
        }
      ]
    },
    {
      "cell_type": "code",
      "metadata": {
        "id": "0hq5Y17Iq80z",
        "colab_type": "code",
        "colab": {}
      },
      "source": [
        "import pickle as pkl\n",
        "\n",
        "# export model and tokenizer\n",
        "model.save('/content/jobModel.h5')\n",
        "pkl.dump(tokenizer, open('/content/jobTokenizer.pkl', 'wb'))"
      ],
      "execution_count": 13,
      "outputs": []
    }
  ]
}